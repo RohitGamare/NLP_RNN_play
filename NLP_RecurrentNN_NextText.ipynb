{
  "nbformat": 4,
  "nbformat_minor": 0,
  "metadata": {
    "colab": {
      "name": "NLP_RecurrentNN_NextText.ipynb",
      "provenance": [],
      "collapsed_sections": []
    },
    "kernelspec": {
      "name": "python3",
      "display_name": "Python 3"
    },
    "language_info": {
      "name": "python"
    },
    "accelerator": "GPU"
  },
  "cells": [
    {
      "cell_type": "code",
      "metadata": {
        "colab": {
          "base_uri": "https://localhost:8080/"
        },
        "id": "y7u-3jYmI0oK",
        "outputId": "2c83e6b0-f920-470f-c981-b68b769a07f3"
      },
      "source": [
        "%tensorflow_version 2.x  # this line is not required unless you are in a notebook\n",
        "from keras.preprocessing import sequence\n",
        "import keras\n",
        "import tensorflow as tf\n",
        "import os\n",
        "import numpy as np\n",
        "\n",
        "#Dataset\n",
        "path_to_file = tf.keras.utils.get_file('shakespeare.txt', 'https://storage.googleapis.com/download.tensorflow.org/data/shakespeare.txt')"
      ],
      "execution_count": null,
      "outputs": [
        {
          "output_type": "stream",
          "text": [
            "`%tensorflow_version` only switches the major version: 1.x or 2.x.\n",
            "You set: `2.x  # this line is not required unless you are in a notebook`. This will be interpreted as: `2.x`.\n",
            "\n",
            "\n",
            "TensorFlow 2.x selected.\n",
            "Downloading data from https://storage.googleapis.com/download.tensorflow.org/data/shakespeare.txt\n",
            "1122304/1115394 [==============================] - 0s 0us/step\n"
          ],
          "name": "stdout"
        }
      ]
    },
    {
      "cell_type": "code",
      "metadata": {
        "colab": {
          "base_uri": "https://localhost:8080/"
        },
        "id": "A8FGIk_TybLJ",
        "outputId": "5d75d10b-0a97-47c6-c63b-7da331007316"
      },
      "source": [
        "#Load the Data\n",
        "# Read, then decode for py2 compat.\n",
        "text = open(path_to_file, 'rb').read().decode(encoding='utf-8')\n",
        "# length of text is the number of characters in it\n",
        "print ('Length of text: {} characters'.format(len(text)))\n",
        "# Take a look at the first 250 characters in text\n",
        "print(text[:250])"
      ],
      "execution_count": null,
      "outputs": [
        {
          "output_type": "stream",
          "text": [
            "Length of text: 1115394 characters\n",
            "First Citizen:\n",
            "Before we proceed any further, hear me speak.\n",
            "\n",
            "All:\n",
            "Speak, speak.\n",
            "\n",
            "First Citizen:\n",
            "You are all resolved rather to die than to famish?\n",
            "\n",
            "All:\n",
            "Resolved. resolved.\n",
            "\n",
            "First Citizen:\n",
            "First, you know Caius Marcius is chief enemy to the people.\n",
            "\n"
          ],
          "name": "stdout"
        }
      ]
    },
    {
      "cell_type": "markdown",
      "metadata": {
        "id": "_iokIpfRy1vo"
      },
      "source": [
        "**Convert text to numeric (Encoding)**"
      ]
    },
    {
      "cell_type": "code",
      "metadata": {
        "colab": {
          "base_uri": "https://localhost:8080/"
        },
        "id": "LoQaZiAsyrTC",
        "outputId": "79cb3cc2-650a-485c-df18-763c60d64773"
      },
      "source": [
        "vocab = sorted(set(text))\n",
        "# Creating a mapping from unique characters to indices\n",
        "char2idx = {u:i for i, u in enumerate(vocab)}\n",
        "idx2char = np.array(vocab)\n",
        "\n",
        "def text_to_int(text):\n",
        "  return np.array([char2idx[c] for c in text])\n",
        "\n",
        "text_as_int = text_to_int(text)\n",
        "\n",
        "# lets look at how part of our text is encoded\n",
        "print(\"Text:\", text[:13])\n",
        "print(\"Encoded:\", text_to_int(text[:13]))"
      ],
      "execution_count": null,
      "outputs": [
        {
          "output_type": "stream",
          "text": [
            "Text: First Citizen\n",
            "Encoded: [18 47 56 57 58  1 15 47 58 47 64 43 52]\n"
          ],
          "name": "stdout"
        }
      ]
    },
    {
      "cell_type": "markdown",
      "metadata": {
        "id": "WIC1YIY6zTdb"
      },
      "source": [
        "**Convert numeric to Text(Decoding)**"
      ]
    },
    {
      "cell_type": "code",
      "metadata": {
        "colab": {
          "base_uri": "https://localhost:8080/"
        },
        "id": "idb54I_2zIWo",
        "outputId": "9d86903f-8ad8-49d9-96c6-876ec3a18a25"
      },
      "source": [
        "def int_to_text(ints):\n",
        "  try:\n",
        "    ints = ints.numpy()\n",
        "  except:\n",
        "    pass\n",
        "  return ''.join(idx2char[ints])\n",
        "\n",
        "print(int_to_text(text_as_int[:13]))"
      ],
      "execution_count": null,
      "outputs": [
        {
          "output_type": "stream",
          "text": [
            "First Citizen\n"
          ],
          "name": "stdout"
        }
      ]
    },
    {
      "cell_type": "markdown",
      "metadata": {
        "id": "FHszhKuV0O7l"
      },
      "source": [
        "**We have to feed the model a sequence and have it return to us the next character. This means we need to split our text data from above into many shorter sequences that we can pass to the model as training examples.Our first step will be to create a stream of characters from our text data.**"
      ]
    },
    {
      "cell_type": "code",
      "metadata": {
        "colab": {
          "base_uri": "https://localhost:8080/"
        },
        "id": "1ZiNm93pzk6O",
        "outputId": "cfa4f484-da81-46b9-9dc5-a6533e6a2c89"
      },
      "source": [
        "#making a stream/sequence of Data\n",
        "seq_length = 100  # length of sequence for a training example\n",
        "examples_per_epoch = len(text)//(seq_length+1)\n",
        "# Create training examples / targets\n",
        "char_dataset = tf.data.Dataset.from_tensor_slices(text_as_int)\n",
        "\n",
        "#creating batches of this stream/sequence data\n",
        "sequences = char_dataset.batch(seq_length+1, drop_remainder=True)\n",
        "\n",
        "#split the sequence lenght 101 into I/P and O/P\n",
        "def split_input_target(chunk):  # for the example: hello\n",
        "    input_text = chunk[:-1]  # hell\n",
        "    target_text = chunk[1:]  # ello\n",
        "    return input_text, target_text  # hell, ello\n",
        "\n",
        "dataset = sequences.map(split_input_target) \n",
        "\n",
        "for x, y in dataset.take(2):\n",
        "  print(\"\\n\\nEXAMPLE\\n\")\n",
        "  print(\"INPUT\")\n",
        "  print(int_to_text(x))\n",
        "  print(\"\\nOUTPUT\")\n",
        "  print(int_to_text(y))\n"
      ],
      "execution_count": null,
      "outputs": [
        {
          "output_type": "stream",
          "text": [
            "\n",
            "\n",
            "EXAMPLE\n",
            "\n",
            "INPUT\n",
            "First Citizen:\n",
            "Before we proceed any further, hear me speak.\n",
            "\n",
            "All:\n",
            "Speak, speak.\n",
            "\n",
            "First Citizen:\n",
            "You\n",
            "\n",
            "OUTPUT\n",
            "irst Citizen:\n",
            "Before we proceed any further, hear me speak.\n",
            "\n",
            "All:\n",
            "Speak, speak.\n",
            "\n",
            "First Citizen:\n",
            "You \n",
            "\n",
            "\n",
            "EXAMPLE\n",
            "\n",
            "INPUT\n",
            "are all resolved rather to die than to famish?\n",
            "\n",
            "All:\n",
            "Resolved. resolved.\n",
            "\n",
            "First Citizen:\n",
            "First, you \n",
            "\n",
            "OUTPUT\n",
            "re all resolved rather to die than to famish?\n",
            "\n",
            "All:\n",
            "Resolved. resolved.\n",
            "\n",
            "First Citizen:\n",
            "First, you k\n"
          ],
          "name": "stdout"
        }
      ]
    },
    {
      "cell_type": "markdown",
      "metadata": {
        "id": "Wt5pZtzH3EnU"
      },
      "source": [
        "**Creating training Batches**"
      ]
    },
    {
      "cell_type": "code",
      "metadata": {
        "id": "nqr9qQ9114n5"
      },
      "source": [
        "BATCH_SIZE = 64\n",
        "VOCAB_SIZE = len(vocab)  # vocab is number of unique characters\n",
        "EMBEDDING_DIM = 256\n",
        "RNN_UNITS = 1024\n",
        "\n",
        "# Buffer size to shuffle the dataset\n",
        "# (TF data is designed to work with possibly infinite sequences,\n",
        "# so it doesn't attempt to shuffle the entire sequence in memory. Instead,\n",
        "# it maintains a buffer in which it shuffles elements).\n",
        "BUFFER_SIZE = 10000\n",
        "\n",
        "data = dataset.shuffle(BUFFER_SIZE).batch(BATCH_SIZE, drop_remainder=True)"
      ],
      "execution_count": null,
      "outputs": []
    },
    {
      "cell_type": "markdown",
      "metadata": {
        "id": "3KrJ_iYF3U9d"
      },
      "source": [
        "**Structuring Our Model**"
      ]
    },
    {
      "cell_type": "code",
      "metadata": {
        "colab": {
          "base_uri": "https://localhost:8080/"
        },
        "id": "On8vVBlP3Mah",
        "outputId": "5989e2b1-d2fd-4a91-a927-bb711b3e4894"
      },
      "source": [
        "def build_model(vocab_size, embedding_dim, rnn_units, batch_size):\n",
        "  model = tf.keras.Sequential([\n",
        "    tf.keras.layers.Embedding(vocab_size, embedding_dim,\n",
        "                              batch_input_shape=[batch_size, None]),#Layer1\n",
        "    tf.keras.layers.LSTM(rnn_units,\n",
        "                        return_sequences=True,\n",
        "                        stateful=True,\n",
        "                        recurrent_initializer='glorot_uniform'),#Layer 2\n",
        "    tf.keras.layers.Dense(vocab_size)#Layer 3\n",
        "  ])\n",
        "  return model\n",
        "\n",
        "model = build_model(VOCAB_SIZE,EMBEDDING_DIM, RNN_UNITS, BATCH_SIZE)\n",
        "model.summary()"
      ],
      "execution_count": null,
      "outputs": [
        {
          "output_type": "stream",
          "text": [
            "Model: \"sequential\"\n",
            "_________________________________________________________________\n",
            "Layer (type)                 Output Shape              Param #   \n",
            "=================================================================\n",
            "embedding (Embedding)        (64, None, 256)           16640     \n",
            "_________________________________________________________________\n",
            "lstm (LSTM)                  (64, None, 1024)          5246976   \n",
            "_________________________________________________________________\n",
            "dense (Dense)                (64, None, 65)            66625     \n",
            "=================================================================\n",
            "Total params: 5,330,241\n",
            "Trainable params: 5,330,241\n",
            "Non-trainable params: 0\n",
            "_________________________________________________________________\n"
          ],
          "name": "stdout"
        }
      ]
    },
    {
      "cell_type": "markdown",
      "metadata": {
        "id": "Lkmt9uxA5cGD"
      },
      "source": [
        "**Creating the Loss Function From Scratch**"
      ]
    },
    {
      "cell_type": "code",
      "metadata": {
        "colab": {
          "base_uri": "https://localhost:8080/"
        },
        "id": "Nz9PbonS3t8O",
        "outputId": "02b6ce6d-0913-47cb-efcd-48b78d7fbd62"
      },
      "source": [
        "for input_example_batch, target_example_batch in data.take(1):\n",
        "  example_batch_predictions = model(input_example_batch)  # ask our model for a prediction on our first batch of training data (64 entries)\n",
        "  print(example_batch_predictions.shape, \"# (batch_size, sequence_length, vocab_size)\")  # print out the output shape"
      ],
      "execution_count": null,
      "outputs": [
        {
          "output_type": "stream",
          "text": [
            "(64, 100, 65) # (batch_size, sequence_length, vocab_size)\n"
          ],
          "name": "stdout"
        }
      ]
    },
    {
      "cell_type": "code",
      "metadata": {
        "colab": {
          "base_uri": "https://localhost:8080/",
          "height": 1000
        },
        "id": "TVrOsriQ6Lpb",
        "outputId": "5c869450-83c4-453f-ef47-d07bcb8d07f3"
      },
      "source": [
        "# we can see that the predicition is an array of 64 arrays, one for each entry in the batch\n",
        "print(len(example_batch_predictions))\n",
        "print(example_batch_predictions)\n",
        "\n",
        "# lets examine one prediction\n",
        "pred = example_batch_predictions[0]\n",
        "print(len(pred))\n",
        "print(pred)\n",
        "# notice this is a 2d array of length 100, where each interior array is the prediction for the next character at each time step\n",
        "\n",
        "# and finally well look at a prediction at the first timestep\n",
        "time_pred = pred[0]\n",
        "print(len(time_pred))\n",
        "print(time_pred)\n",
        "# and of course its 65 values representing the probabillity of each character occuring next\n",
        "\n",
        "\n",
        "# If we want to determine the predicted character we need to sample the output distribution (pick a value based on probabillity)\n",
        "sampled_indices = tf.random.categorical(pred, num_samples=1)\n",
        "# now we can reshape that array and convert all the integers to numbers to see the actual characters\n",
        "sampled_indices = np.reshape(sampled_indices, (1, -1))[0]\n",
        "predicted_chars = int_to_text(sampled_indices)\n",
        "\n",
        "predicted_chars  # and this is what the model predicted for training sequence 1"
      ],
      "execution_count": null,
      "outputs": [
        {
          "output_type": "stream",
          "text": [
            "64\n",
            "tf.Tensor(\n",
            "[[[ 2.76645645e-03 -3.67337512e-03 -1.20736891e-03 ... -3.65655380e-03\n",
            "    1.57376414e-03  4.30410635e-03]\n",
            "  [ 5.39972028e-03 -5.12344809e-03 -1.85850088e-03 ...  5.61910868e-03\n",
            "   -8.16508848e-03  1.07170958e-02]\n",
            "  [ 1.65083993e-03 -7.94248562e-03  3.14923259e-03 ...  4.05288395e-03\n",
            "    1.38704354e-06  2.18221056e-03]\n",
            "  ...\n",
            "  [-6.39744243e-03  7.30025349e-03  2.59179831e-03 ... -3.71797360e-03\n",
            "   -1.38610285e-02 -1.39682170e-03]\n",
            "  [-7.13860011e-03  1.02497246e-02  8.78139515e-04 ... -7.13683711e-03\n",
            "   -1.54036721e-02 -1.43731572e-03]\n",
            "  [-4.54548793e-03  7.42150284e-03  2.32319185e-03 ... -8.19750689e-03\n",
            "   -1.61115844e-02 -3.86103010e-03]]\n",
            "\n",
            " [[-4.26846644e-04  2.06172862e-03 -2.06006295e-03 ... -7.59686809e-04\n",
            "    2.90064747e-03  1.30841299e-03]\n",
            "  [ 1.79193579e-04 -9.29015805e-04 -5.29010082e-04 ... -1.71615649e-03\n",
            "   -2.74683989e-04 -7.07855681e-04]\n",
            "  [ 6.61050362e-05 -2.79781362e-03  2.93915422e-04 ... -2.83320155e-03\n",
            "   -3.55751812e-03 -2.05052062e-03]\n",
            "  ...\n",
            "  [ 2.81229941e-03  9.81852598e-03 -3.94035626e-04 ...  4.84221615e-03\n",
            "   -3.16846813e-03  4.21917578e-03]\n",
            "  [-7.46303936e-04  1.63199883e-02  5.95066987e-04 ... -3.37744900e-03\n",
            "   -8.33279453e-03  3.42741213e-03]\n",
            "  [-2.43386161e-03  8.02388228e-03 -5.51455701e-03 ... -4.73704049e-03\n",
            "   -9.27676633e-03  2.77996575e-03]]\n",
            "\n",
            " [[ 2.07237829e-03 -2.09695520e-03  7.29465275e-04 ... -1.15602440e-03\n",
            "   -2.72028125e-03 -1.73261715e-03]\n",
            "  [-2.16344581e-03 -2.41154875e-03 -1.17219007e-03 ... -1.91434857e-03\n",
            "   -4.50844923e-03  1.85029709e-03]\n",
            "  [ 3.66874097e-04 -7.37528317e-03 -1.35845062e-03 ...  2.75779027e-03\n",
            "   -8.81566433e-04  5.11458842e-03]\n",
            "  ...\n",
            "  [-6.21307921e-03  2.28082761e-03 -3.72441718e-03 ... -7.97913782e-03\n",
            "   -8.89817066e-03  1.01327458e-02]\n",
            "  [-2.74019642e-03 -3.49031948e-03 -2.12739850e-03 ... -1.79594243e-03\n",
            "   -3.72758252e-03  1.15870293e-02]\n",
            "  [-5.12528699e-03  6.99977577e-03  1.42768188e-03 ... -7.98991695e-03\n",
            "   -8.96717701e-03  6.75633317e-03]]\n",
            "\n",
            " ...\n",
            "\n",
            " [[-2.74470099e-03 -1.03771233e-03 -1.38321449e-03 ... -6.71570073e-04\n",
            "   -1.61031110e-03  2.99566938e-03]\n",
            "  [ 1.85623160e-03  3.95964482e-04 -3.74964322e-03 ... -5.20227337e-03\n",
            "   -5.10326168e-03  9.30693839e-03]\n",
            "  [ 7.57015136e-04  5.14685735e-03  9.98412725e-04 ... -5.55725116e-03\n",
            "   -2.58806674e-03  1.10882176e-02]\n",
            "  ...\n",
            "  [-1.46043692e-02  7.11184647e-03  7.95297034e-04 ...  1.15684345e-02\n",
            "   -1.55974487e-02 -2.75240839e-03]\n",
            "  [-8.55110772e-03  4.82649170e-03  6.76594069e-03 ...  3.18272435e-03\n",
            "   -8.77912715e-03  2.08163843e-03]\n",
            "  [-3.15789622e-03  9.93727706e-03 -4.84127726e-04 ...  1.24300190e-03\n",
            "   -6.13510516e-03 -2.62892409e-03]]\n",
            "\n",
            " [[ 3.67755396e-03  1.02956267e-03 -2.64767744e-03 ... -4.41439310e-03\n",
            "   -4.69595892e-03  7.04017188e-03]\n",
            "  [-2.01641553e-04 -3.67812696e-03 -6.17335923e-03 ... -5.84657211e-03\n",
            "   -7.61095574e-03  3.70679400e-03]\n",
            "  [ 1.94721390e-03 -5.08889416e-03 -3.48737440e-03 ... -5.88065991e-03\n",
            "   -8.71734414e-03  1.65511202e-03]\n",
            "  ...\n",
            "  [-1.28108105e-02  2.32868735e-03 -1.63433119e-03 ... -1.89535774e-03\n",
            "   -6.21127430e-03  3.23360250e-03]\n",
            "  [-1.05727231e-02  6.25505811e-03  2.62833084e-03 ... -3.40853678e-03\n",
            "   -5.13513852e-03  4.60657477e-03]\n",
            "  [-7.77916843e-03  5.69326757e-03  2.56964006e-03 ... -5.48985647e-03\n",
            "   -1.93432649e-03  3.99741856e-03]]\n",
            "\n",
            " [[-5.01861563e-03  1.67073053e-03  5.07535925e-03 ...  4.20390954e-03\n",
            "   -3.79423751e-03 -3.13009345e-03]\n",
            "  [-4.22952790e-03  2.76550511e-03  1.70517236e-03 ...  2.51858658e-03\n",
            "   -3.37540725e-04 -4.20991768e-04]\n",
            "  [-6.80370443e-03 -3.23020504e-04  1.03425712e-03 ... -3.07137147e-03\n",
            "   -1.35204382e-03 -5.99952321e-03]\n",
            "  ...\n",
            "  [-2.00323458e-03  1.37000727e-02  7.98073690e-03 ... -5.38238045e-03\n",
            "   -5.65564260e-03  4.24042484e-03]\n",
            "  [ 6.72717928e-04  1.12930052e-02  1.10719576e-02 ... -4.60787024e-03\n",
            "   -1.10106943e-02  7.66038080e-04]\n",
            "  [ 3.10383062e-03  6.52371254e-03  8.52471124e-03 ... -6.50115451e-03\n",
            "   -1.25860190e-02 -1.42595882e-03]]], shape=(64, 100, 65), dtype=float32)\n",
            "100\n",
            "tf.Tensor(\n",
            "[[ 2.76645645e-03 -3.67337512e-03 -1.20736891e-03 ... -3.65655380e-03\n",
            "   1.57376414e-03  4.30410635e-03]\n",
            " [ 5.39972028e-03 -5.12344809e-03 -1.85850088e-03 ...  5.61910868e-03\n",
            "  -8.16508848e-03  1.07170958e-02]\n",
            " [ 1.65083993e-03 -7.94248562e-03  3.14923259e-03 ...  4.05288395e-03\n",
            "   1.38704354e-06  2.18221056e-03]\n",
            " ...\n",
            " [-6.39744243e-03  7.30025349e-03  2.59179831e-03 ... -3.71797360e-03\n",
            "  -1.38610285e-02 -1.39682170e-03]\n",
            " [-7.13860011e-03  1.02497246e-02  8.78139515e-04 ... -7.13683711e-03\n",
            "  -1.54036721e-02 -1.43731572e-03]\n",
            " [-4.54548793e-03  7.42150284e-03  2.32319185e-03 ... -8.19750689e-03\n",
            "  -1.61115844e-02 -3.86103010e-03]], shape=(100, 65), dtype=float32)\n",
            "65\n",
            "tf.Tensor(\n",
            "[ 2.7664565e-03 -3.6733751e-03 -1.2073689e-03  4.3473515e-04\n",
            " -4.5581209e-03 -3.3717644e-03 -2.1791768e-03  3.6976903e-03\n",
            " -4.0189018e-03  2.6966943e-03  3.0696178e-03  2.4809611e-03\n",
            "  5.1699099e-03  2.1894171e-03 -5.5693304e-03  2.7567437e-03\n",
            "  1.2992462e-03 -5.8670924e-03  8.1129826e-04 -4.1797105e-03\n",
            " -1.7298551e-03 -6.2637648e-04  5.4287785e-03  7.8064976e-03\n",
            " -7.7009602e-03  6.2583585e-04 -1.0114537e-03  5.8113891e-03\n",
            " -1.2422545e-03  7.5693679e-04 -3.6190082e-03 -1.5241749e-03\n",
            "  1.6971634e-03  2.6961039e-03 -1.3061427e-03 -9.4559314e-03\n",
            "  1.1281710e-03  6.9552572e-03 -7.2272705e-06 -2.3047831e-03\n",
            " -1.2796735e-06  6.5172923e-04  4.2661028e-03  2.0194837e-05\n",
            " -1.2782677e-03 -4.5959614e-03 -5.4078340e-03 -1.3132228e-03\n",
            "  1.7504941e-04  3.0459575e-03 -2.4111527e-03 -2.2603767e-03\n",
            "  1.0873247e-03  1.3880068e-03 -2.7195860e-03 -1.0732043e-03\n",
            " -1.2585057e-04 -2.2981940e-03 -4.9759955e-03  2.9090755e-03\n",
            "  2.9796667e-03  6.0521956e-03 -3.6565538e-03  1.5737641e-03\n",
            "  4.3041063e-03], shape=(65,), dtype=float32)\n"
          ],
          "name": "stdout"
        },
        {
          "output_type": "execute_result",
          "data": {
            "application/vnd.google.colaboratory.intrinsic+json": {
              "type": "string"
            },
            "text/plain": [
              "\"IKI?RfTKRwkbz-,p-w3k.$pnkLPN!BNJS:Tc3g&NJ  ,rjMwv33gWn3SX,kfxnXzrup?R:yXWneDc;E'-J!;rodlYR3?cBNsOnRr\""
            ]
          },
          "metadata": {
            "tags": []
          },
          "execution_count": 9
        }
      ]
    },
    {
      "cell_type": "markdown",
      "metadata": {
        "id": "K1UnCTR-6j29"
      },
      "source": [
        "**So now we need to create a loss function that can compare that output to the expected output and give us some numeric value representing how close the two were.**"
      ]
    },
    {
      "cell_type": "code",
      "metadata": {
        "id": "g2oa3QBv6VRq"
      },
      "source": [
        "def loss(labels, logits):\n",
        "  return tf.keras.losses.sparse_categorical_crossentropy(labels, logits, from_logits=True)"
      ],
      "execution_count": null,
      "outputs": []
    },
    {
      "cell_type": "markdown",
      "metadata": {
        "id": "yU9Lzy8x6pes"
      },
      "source": [
        "**Compile the model**"
      ]
    },
    {
      "cell_type": "code",
      "metadata": {
        "id": "qjhXGAzu6np2"
      },
      "source": [
        "model.compile(optimizer='adam', loss=loss)"
      ],
      "execution_count": null,
      "outputs": []
    },
    {
      "cell_type": "markdown",
      "metadata": {
        "id": "DXe9EN6Y7Gup"
      },
      "source": [
        "**Creating Checkpoints/Weights/Bias for the model**"
      ]
    },
    {
      "cell_type": "code",
      "metadata": {
        "id": "NxysQ2lt6v-U"
      },
      "source": [
        "# Directory where the checkpoints will be saved\n",
        "checkpoint_dir = './training_checkpoints'\n",
        "# Name of the checkpoint files\n",
        "checkpoint_prefix = os.path.join(checkpoint_dir, \"ckpt_{epoch}\")\n",
        "\n",
        "checkpoint_callback=tf.keras.callbacks.ModelCheckpoint(\n",
        "    filepath=checkpoint_prefix,\n",
        "    save_weights_only=True)"
      ],
      "execution_count": null,
      "outputs": []
    },
    {
      "cell_type": "markdown",
      "metadata": {
        "id": "CyUXjmVx7l4V"
      },
      "source": [
        "**Train the model**"
      ]
    },
    {
      "cell_type": "code",
      "metadata": {
        "colab": {
          "base_uri": "https://localhost:8080/"
        },
        "id": "86QGI1ae7ZAv",
        "outputId": "a831ed1c-e493-43d8-a956-c84d1758d8d4"
      },
      "source": [
        "history = model.fit(data, epochs=5, callbacks=[checkpoint_callback])"
      ],
      "execution_count": null,
      "outputs": [
        {
          "output_type": "stream",
          "text": [
            "Epoch 1/5\n",
            "172/172 [==============================] - 31s 160ms/step - loss: 3.1031\n",
            "Epoch 2/5\n",
            "172/172 [==============================] - 29s 161ms/step - loss: 2.0082\n",
            "Epoch 3/5\n",
            "172/172 [==============================] - 29s 162ms/step - loss: 1.7072\n",
            "Epoch 4/5\n",
            "172/172 [==============================] - 29s 162ms/step - loss: 1.5463\n",
            "Epoch 5/5\n",
            "172/172 [==============================] - 30s 163ms/step - loss: 1.4440\n"
          ],
          "name": "stdout"
        }
      ]
    },
    {
      "cell_type": "markdown",
      "metadata": {
        "id": "SvJjx5eb71pm"
      },
      "source": [
        "**Load the model(Since the model gets saved in the memory and can be reused, in this way we can make it run fast)**"
      ]
    },
    {
      "cell_type": "code",
      "metadata": {
        "id": "jlIo3k697q3S"
      },
      "source": [
        "model = build_model(VOCAB_SIZE, EMBEDDING_DIM, RNN_UNITS, batch_size=1)"
      ],
      "execution_count": null,
      "outputs": []
    },
    {
      "cell_type": "code",
      "metadata": {
        "id": "jwjAnp44-k0D"
      },
      "source": [
        "#Find the latest checkpoints\n",
        "model.load_weights(tf.train.latest_checkpoint(checkpoint_dir))\n",
        "model.build(tf.TensorShape([1, None]))"
      ],
      "execution_count": null,
      "outputs": []
    },
    {
      "cell_type": "markdown",
      "metadata": {
        "id": "BjEbP0BP_zXq"
      },
      "source": [
        "**Generating Text**"
      ]
    },
    {
      "cell_type": "code",
      "metadata": {
        "id": "s1lVDorU_FEx"
      },
      "source": [
        "def generate_text(model, start_string):\n",
        "  # Evaluation step (generating text using the learned model)\n",
        "\n",
        "  # Number of characters to generate\n",
        "  num_generate = 800\n",
        "\n",
        "  # Converting our start string to numbers (vectorizing)\n",
        "  input_eval = [char2idx[s] for s in start_string]\n",
        "  input_eval = tf.expand_dims(input_eval, 0)\n",
        "\n",
        "  # Empty string to store our results\n",
        "  text_generated = []\n",
        "\n",
        "  # Low temperatures results in more predictable text.\n",
        "  # Higher temperatures results in more surprising text.\n",
        "  # Experiment to find the best setting.\n",
        "  temperature = 1.0\n",
        "\n",
        "  # Here batch size == 1\n",
        "  model.reset_states()\n",
        "  for i in range(num_generate):\n",
        "      predictions = model(input_eval)\n",
        "      # remove the batch dimension\n",
        "    \n",
        "      predictions = tf.squeeze(predictions, 0)\n",
        "\n",
        "      # using a categorical distribution to predict the character returned by the model\n",
        "      predictions = predictions / temperature\n",
        "      predicted_id = tf.random.categorical(predictions, num_samples=1)[-1,0].numpy()\n",
        "\n",
        "      # We pass the predicted character as the next input to the model\n",
        "      # along with the previous hidden state\n",
        "      input_eval = tf.expand_dims([predicted_id], 0)\n",
        "\n",
        "      text_generated.append(idx2char[predicted_id])\n",
        "\n",
        "  return (start_string + ''.join(text_generated))"
      ],
      "execution_count": null,
      "outputs": []
    },
    {
      "cell_type": "markdown",
      "metadata": {
        "id": "20dtnNbW__Ph"
      },
      "source": [
        "**Final input**"
      ]
    },
    {
      "cell_type": "code",
      "metadata": {
        "colab": {
          "base_uri": "https://localhost:8080/"
        },
        "id": "oIezs4Sr_84v",
        "outputId": "d69de500-1bfb-442a-b09d-97f2da1c0bb9"
      },
      "source": [
        "inp = input(\"Type a starting string: \")\n",
        "print(generate_text(model, inp))"
      ],
      "execution_count": null,
      "outputs": [
        {
          "output_type": "stream",
          "text": [
            "Type a starting string: romeo\n",
            "romeosing,\n",
            "Unto!\n",
            "\n",
            "LUCIO:\n",
            "fie, eacys and Lord Hastagry of all fills,\n",
            "This hand the fair risher, to show her tounce,\n",
            "O like them to the foil shade, stated them both,\n",
            "But ever above perface on their dont.\n",
            "\n",
            "MENCIO:\n",
            "Leave me the brettledard; forthis? would Ipoo' the trainion,\n",
            "Hath pervive you shand the senth.\n",
            "\n",
            "KING ELWAS Make killer on,\n",
            "And we rolecture my such merively, but laying.\n",
            "\n",
            "SICINIUS:\n",
            "Sir, fire ale here is the horte\n",
            "Is for you, be flacted beins desire.\n",
            "\n",
            "PAMTI:\n",
            "Whole is thus son, bail back Juliet; thou dost\n",
            "I'rlow'd and no law it is were; sweetes!\n",
            "\n",
            "BIONDELLO:\n",
            "Saw your friends; are you wartomakisage?\n",
            "\n",
            "First Gerserear:\n",
            "I'll swood the slace, and make his blood,\n",
            "Shall-give stay for a father. These will leave\n",
            "your pardage is powed wewit\n",
            "Have we state to actime; to have have atchonted\n",
            "Whireded in \n"
          ],
          "name": "stdout"
        }
      ]
    }
  ]
}